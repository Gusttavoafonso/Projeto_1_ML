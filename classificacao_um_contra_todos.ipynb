{
 "cells": [
  {
   "cell_type": "markdown",
   "id": "c8892adf",
   "metadata": {},
   "source": [
    "# Estratégia \"Um Contra Todos\" para Classificação de Dígitos\n",
    "\n",
    "Para construir um classificador para os quatro dígitos contidos na base, utiliza-se a estratégia **\"Um Contra Todos\"** (*One-vs-All*).\n",
    "\n",
    "## Passo a Passo\n",
    "\n",
    "1. **Escolha de um dígito positivo**  \n",
    "   Inicialmente, escolhe-se um dígito específico (por exemplo, **0**) para ser a classe **𝑦 = +1**.\n",
    "\n",
    "2. **Agrupamento dos demais dígitos**  \n",
    "   Todos os outros dígitos (por exemplo, **1, 4 e 5**) são temporariamente definidos como a classe **𝑦 = −1**.\n",
    "\n",
    "3. **Treinamento do modelo**  \n",
    "   O modelo é treinado para distinguir o dígito escolhido (**positivo**) de todos os outros (**negativos**).\n",
    "\n",
    "4. **Repetição para cada dígito**  \n",
    "   O processo é repetido para cada dígito que se deseja classificar. Assim, teremos um classificador separado para cada número.\n",
    "\n",
    "## Exemplo de Transformação\n",
    "\n",
    "Se o conjunto de rótulos originais for:\n",
    "\n"
   ]
  }
 ],
 "metadata": {
  "language_info": {
   "name": "python"
  }
 },
 "nbformat": 4,
 "nbformat_minor": 5
}
